{
 "cells": [
  {
   "cell_type": "code",
   "execution_count": null,
   "id": "72b45c32",
   "metadata": {},
   "outputs": [],
   "source": [
    "from sklearn import cluster\n",
    "from sklearn import metrics\n",
    "from sklearn.cluster import KMeans\n",
    "import numpy as np\n",
    "import pandas as pd\n",
    "\n",
    "class MLLit:\n",
    "    def __init__(self):\n",
    "    \n",
    "    def cluster(self,counter_data, columns=[]) :\n",
    "        #Prep for clustering\n",
    "        data = pd.DataFrame.from_dict(counter_data, orient='index').reset_index()\n",
    "        data.columns=columns\n",
    "        print(data)\n",
    "        idx0 = list(data.columns)[0]\n",
    "        idx1 = list(data.columns)[1]\n",
    "        kmeans = KMeans(n_clusters=3).fit(data)\n",
    "        labels = kmeans.labels_\n",
    "        centroids = kmeans.cluster_centers_\n",
    "        score = kmeans.score(data)\n",
    "        silhouette_score = metrics.silhouette_score(data, labels, metric='euclidean')\n",
    "\n",
    "        #plt.scatter(data[idx0], data[idx1], c= kmeans.labels_.astype(float), s=50, alpha=0.5)\n",
    "        #plt.scatter(centroids[:, 0], centroids[:, 1], c='red', s=50)\n",
    "        #plt.show()\n",
    "\n",
    "        #print({'labels': labels, 'centroids': centroids, 'score': score, 'silhouette_score': silhouette_score})\n",
    "        return {'labels': labels, 'centroids': centroids, 'score': score, 'silhouette_score': silhouette_score}\n"
   ]
  }
 ],
 "metadata": {
  "kernelspec": {
   "display_name": "Python 3 (ipykernel)",
   "language": "python",
   "name": "python3"
  },
  "language_info": {
   "codemirror_mode": {
    "name": "ipython",
    "version": 3
   },
   "file_extension": ".py",
   "mimetype": "text/x-python",
   "name": "python",
   "nbconvert_exporter": "python",
   "pygments_lexer": "ipython3",
   "version": "3.8.10"
  }
 },
 "nbformat": 4,
 "nbformat_minor": 5
}
