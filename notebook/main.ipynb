{
 "cells": [
  {
   "cell_type": "code",
   "execution_count": 1,
   "id": "b6a5306f",
   "metadata": {
    "scrolled": false
   },
   "outputs": [
    {
     "name": "stdout",
     "output_type": "stream",
     "text": [
      "[('PUBLIC', 188), ('ACCOUNTABILITY', 188), ('DEVELOPMENT', 188), ('APPLICATION', 188), ('SOCIETY', 188), ('GOVERNANCE', 94), ('GOVERNMENT', 94), ('SYSTEM', 94), ('DECISION', 94), ('DEVELOPER', 94), ('LEARNING', 94), ('TECHNOLOGY', 94), ('DATUM', 94), ('POLICY', 94), ('ECONOMY', 94), ('SERVICE', 94), ('SOCIAL', 94), ('CITIZEN', 94), ('NATION', 94), ('COUNTRY', 94), ('HUMAN', 94), ('SECTOR', 94), ('ORGANIZATION', 94), ('ARCHITECTURE', 94), ('DIGITAL', 94), ('ENTERPRISE', 94), ('FRAMEWORK', 94), ('TRANSFORMATION', 94), ('BUSINESS', 94), ('ALGORITHM', 94), ('POWER', 94), ('REGULATION', 94), ('ENFORCEMENT', 94), ('POLICING', 94), ('XAI', 94), ('COMPANY', 94), ('OPPORTUNITY', 94), ('VALUE', 94), ('FUTURE', 94), ('AGENDA', 94), ('PERFORMANCE', 94), ('LEGAL', 94), ('JOB', 94), ('LAW', 94), ('PRINCIPLE', 94), ('POTENTIAL', 94), ('STRATEGY', 94), ('POVERTY', 94), ('FAIRNESS', 94), ('CAPABILITY', 94), ('BUREAUCRACY', 94), ('EMPATHETIC', 94), ('PLANNING', 94), ('CONCEPTUAL', 94), ('PRACTICE', 94), ('INNOVATION', 94), ('EMERGING', 94), ('MOBILE', 94), ('CLOUD', 94), ('CULTURE', 94), ('METHODOLOGY', 94), ('BLUEPRINT', 94)]\n"
     ]
    }
   ],
   "source": [
    "import sys\n",
    "sys.path.append('../src/')\n",
    "\n",
    "from bib_processor import BiBProcessor\n",
    "import ml_lit\n",
    "\n",
    "def load_list(filename):\n",
    "    ret_list = []\n",
    "    with open(filename) as f:\n",
    "        for line in f:\n",
    "            line=line.upper()\n",
    "            ret_list +=line.replace(\"\\n\",\"\").split(\",\")\n",
    "    return ret_list\n",
    "\n",
    "processor = BiBProcessor('../bibtex_collection.bib')\n",
    "processor.preparser()\n",
    "tags = processor.get_tags() \n",
    "      \n",
    "filter_list = [\"ARTIFICIAL\",\"INTELLIGENCE\", \"AI\", \"MACHINE LEARNING\",\"AUTOMATION\", \"AUTONOMOUS\",\"COGNITIVE\",\"(AI)\"]\n",
    "noisefile = \"../noise.txt\"\n",
    "keysfile = \"../keywords.txt\"\n",
    "noise_list = load_list(noisefile)\n",
    "keys_list= load_list(keysfile)\n",
    "\n",
    "noise_set = set(noise_list)\n",
    "\n",
    "processor.filter_tag([])\n",
    "theme_data = processor.get_aggregate_themes( keywords=keys_list,top=67, noise_list=noise_list )\n",
    "print(theme_data['common'])    \n",
    "\n",
    "#for tag in tags:\n",
    "    #processor.filter_tag([tag])\n",
    "    #theme_data = processor.get_themes(filter_list,50, noise_list=noise_set)   \n",
    "    #print(tag + \" Records \" + str(theme_data['records']))\n",
    "\n",
    "    \n"
   ]
  },
  {
   "cell_type": "code",
   "execution_count": 1,
   "id": "9369a0e6",
   "metadata": {},
   "outputs": [
    {
     "ename": "FileNotFoundError",
     "evalue": "[Errno 2] No such file or directory: 'noise.txt'",
     "output_type": "error",
     "traceback": [
      "\u001b[1;31m---------------------------------------------------------------------------\u001b[0m",
      "\u001b[1;31mFileNotFoundError\u001b[0m                         Traceback (most recent call last)",
      "Input \u001b[1;32mIn [1]\u001b[0m, in \u001b[0;36m<cell line: 3>\u001b[1;34m()\u001b[0m\n\u001b[0;32m      1\u001b[0m filename \u001b[38;5;241m=\u001b[39m \u001b[38;5;124m\"\u001b[39m\u001b[38;5;124mnoise.txt\u001b[39m\u001b[38;5;124m\"\u001b[39m\n\u001b[0;32m      2\u001b[0m \u001b[38;5;28mlist\u001b[39m \u001b[38;5;241m=\u001b[39m []\n\u001b[1;32m----> 3\u001b[0m \u001b[38;5;28;01mwith\u001b[39;00m \u001b[38;5;28;43mopen\u001b[39;49m\u001b[43m(\u001b[49m\u001b[43mfilename\u001b[49m\u001b[43m)\u001b[49m \u001b[38;5;28;01mas\u001b[39;00m f:\n\u001b[0;32m      4\u001b[0m     \u001b[38;5;28;01mfor\u001b[39;00m line \u001b[38;5;129;01min\u001b[39;00m f:\n\u001b[0;32m      5\u001b[0m         \u001b[38;5;28mlist\u001b[39m \u001b[38;5;241m+\u001b[39m\u001b[38;5;241m=\u001b[39mline\u001b[38;5;241m.\u001b[39mreplace(\u001b[38;5;124m\"\u001b[39m\u001b[38;5;130;01m\\n\u001b[39;00m\u001b[38;5;124m\"\u001b[39m,\u001b[38;5;124m\"\u001b[39m\u001b[38;5;124m\"\u001b[39m)\u001b[38;5;241m.\u001b[39msplit(\u001b[38;5;124m\"\u001b[39m\u001b[38;5;124m,\u001b[39m\u001b[38;5;124m\"\u001b[39m)\n",
      "\u001b[1;31mFileNotFoundError\u001b[0m: [Errno 2] No such file or directory: 'noise.txt'"
     ]
    }
   ],
   "source": [
    "filename = \"noise.txt\"\n",
    "list = []\n",
    "with open(filename) as f:\n",
    "    for line in f:\n",
    "        list +=line.replace(\"\\n\",\"\").split(\",\")\n",
    "noise = set(list)\n",
    "print(noise)"
   ]
  },
  {
   "cell_type": "code",
   "execution_count": 1,
   "id": "fc3d3fe7",
   "metadata": {},
   "outputs": [
    {
     "name": "stderr",
     "output_type": "stream",
     "text": [
      "[nltk_data] Downloading package omw-1.4 to\n",
      "[nltk_data]     C:\\Users\\MSI\\AppData\\Roaming\\nltk_data...\n",
      "[nltk_data]   Package omw-1.4 is already up-to-date!\n",
      "[nltk_data] Downloading package stopwords to\n",
      "[nltk_data]     C:\\Users\\MSI\\AppData\\Roaming\\nltk_data...\n",
      "[nltk_data]   Package stopwords is already up-to-date!\n"
     ]
    },
    {
     "data": {
      "text/plain": [
       "True"
      ]
     },
     "execution_count": 1,
     "metadata": {},
     "output_type": "execute_result"
    }
   ],
   "source": [
    "import nltk\n",
    "nltk.download('omw-1.4') \n",
    "nltk.download('stopwords')"
   ]
  },
  {
   "cell_type": "code",
   "execution_count": null,
   "id": "d5177467",
   "metadata": {},
   "outputs": [],
   "source": []
  },
  {
   "cell_type": "code",
   "execution_count": null,
   "id": "75f07c24",
   "metadata": {},
   "outputs": [],
   "source": []
  }
 ],
 "metadata": {
  "kernelspec": {
   "display_name": "Python 3 (ipykernel)",
   "language": "python",
   "name": "python3"
  },
  "language_info": {
   "codemirror_mode": {
    "name": "ipython",
    "version": 3
   },
   "file_extension": ".py",
   "mimetype": "text/x-python",
   "name": "python",
   "nbconvert_exporter": "python",
   "pygments_lexer": "ipython3",
   "version": "3.8.10"
  }
 },
 "nbformat": 4,
 "nbformat_minor": 5
}
