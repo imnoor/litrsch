{
 "cells": [
  {
   "cell_type": "code",
   "execution_count": 4,
   "id": "b6a5306f",
   "metadata": {
    "scrolled": false
   },
   "outputs": [
    {
     "name": "stdout",
     "output_type": "stream",
     "text": [
      "SDG Records 2\n",
      "[('development', 11), ('sustainable', 10), ('goal', 8), ('neural', 5), ('network', 5), ('subindex', 4), ('index', 3), ('target', 2), ('model', 2), ('pillar', 2), ('global', 2), ('variable', 2), ('indicator', 2), ('input', 2), ('sector', 1), ('consensusbased', 1), ('proces', 1), ('acros', 1), ('aspect', 1), ('regulatory', 1), ('oversight', 1), ('aibased', 1), ('technology', 1), ('failure', 1), ('result', 1), ('transparency', 1), ('safety', 1), ('ethical', 1), ('standard', 1), ('purpose', 1), ('aim', 1), ('capability', 1), ('designmethodologyapproach', 1), ('social', 1), ('economic', 1), ('environmental', 1), ('cluster', 1), ('performing', 1), ('correlation', 1), ('matrix', 1), ('selecting', 1), ('run', 1), ('time', 1), ('finding', 1), ('seven', 1), ('node', 1), ('hidden', 1), ('layer', 1), ('estimate', 1), ('ecosystem', 1)]\n",
      "Enterprise Architecture Records 8\n",
      "[('architecture', 16), ('digital', 12), ('enterprise', 10), ('government', 9), ('framework', 8), ('transformation', 8), ('organization', 7), ('datum', 6), ('smart', 5), ('city', 5), ('analytic', 5), ('busines', 5), ('service', 4), ('technology', 4), ('system', 4), ('strategy', 4), ('organizational', 3), ('district', 3), ('planning', 3), ('application', 3), ('modaf', 2), ('element', 2), ('strategic', 2), ('time', 2), ('conceptual', 2), ('analyze', 2), ('basi', 2), ('practice', 2), ('context', 2), ('research', 2), ('innovate', 2), ('emerging', 2), ('mobile', 2), ('computing', 2), ('cloud', 2), ('acros', 2), ('structure', 2), ('corporate', 2), ('culture', 2), ('lastly', 2), ('successful', 2), ('integrated', 2), ('development', 2), ('methodology', 2), ('future', 2), ('direction', 2), ('blueprint', 2), ('recommendation', 2), ('consist', 1), ('powerpoint', 1)]\n",
      "Explainability Records 1\n",
      "[('user', 5), ('xai', 5), ('system', 3), ('developer', 3), ('learning', 2), ('decision', 2), ('explainable', 2), ('program', 2), ('model', 2), ('explanation', 2), ('machine', 1), ('application', 1), ('example', 1), ('transportation', 1), ('security', 1), ('medicine', 1), ('finance', 1), ('defense', 1), ('benefit', 1), ('human', 1), ('darpa', 1), ('trusted', 1), ('goal', 1), ('designing', 1), ('interface', 1), ('requirement', 1), ('ml', 1), ('developing', 1), ('principle', 1), ('strategy', 1), ('humancomputer', 1), ('team', 1), ('challenge', 1), ('summarizing', 1), ('extending', 1), ('theory', 1), ('framework', 1), ('test', 1), ('series', 1), ('evaluation', 1), ('xam', 1), ('understanding', 1), ('trust', 1), ('performance', 1)]\n",
      "AI Governance Records 7\n",
      "[('governance', 17), ('public', 16), ('government', 10), ('accountability', 8), ('system', 6), ('sector', 6), ('decisionmaking', 6), ('power', 5), ('digital', 5), ('development', 4), ('organization', 4), ('decision', 4), ('administration', 3), ('regulation', 3), ('stakeholder', 3), ('technology', 3), ('potential', 3), ('egovernment', 3), ('survey', 3), ('education', 3), ('algorithmic', 3), ('question', 2), ('analyze', 2), ('framework', 2), ('proces', 2), ('application', 2), ('theoretical', 2), ('contradictory', 2), ('empirical', 2), ('framing', 2), ('healthcare', 2), ('challenge', 2), ('contribute', 2), ('practice', 2), ('fmy', 2), ('set', 2), ('deal', 2), ('strategy', 2), ('environment', 2), ('context', 2), ('developing', 2), ('society', 2), ('datum', 2), ('hand', 2), ('nation', 2), ('algorithm', 2), ('service', 2), ('lag', 1), ('respective', 1), ('pace', 1)]\n",
      "ICT Policy Records 2\n",
      "[('ict', 4), ('economic', 4), ('infrastructure', 3), ('technology', 2), ('solution', 2), ('policy', 2), ('growth', 2), ('system', 2), ('analysi', 2), ('innovation', 2), ('support', 2), ('deployment', 2), ('conceptual', 1), ('framework', 1), ('advance', 1), ('digital', 1), ('role', 1), ('techno', 1), ('managerial', 1), ('capability', 1), ('possibility', 1), ('researcher', 1), ('economist', 1), ('decision', 1), ('resource', 1), ('utilization', 1), ('field', 1), ('literature', 1), ('indicator', 1), ('vision', 1), ('optimizing', 1), ('activity', 1), ('fund', 1), ('provision', 1), ('stable', 1), ('government', 1), ('macroeconomic', 1), ('determinant', 1), ('environment', 1), ('ictinduced', 1), ('prosperity', 1), ('additionally', 1), ('country', 1), ('promote', 1), ('ecommerce', 1), ('egovernance', 1), ('rd', 1), ('technical', 1), ('probot', 1), ('knowbot', 1)]\n",
      "Government EA Records 2\n",
      "[('cofog', 15), ('datum', 12), ('secondlevel', 8), ('government', 7), ('country', 7), ('firstlevel', 5), ('expenditure', 4), ('member', 4), ('oecd', 3), ('national', 3), ('system', 2), ('fund', 2), ('european', 2), ('service', 2), ('affair', 2), ('international', 2), ('application', 2), ('framework', 2), ('organizational', 2), ('firstand', 1), ('classification', 1), ('function', 1), ('classify', 1), ('illustrate', 1), ('subsector', 1), ('defence', 1), ('education', 1), ('social', 1), ('protection', 1), ('subgroup', 1), ('general', 1), ('public', 1), ('executive', 1), ('legislative', 1), ('organ', 1), ('financial', 1), ('fiscal', 1), ('chile', 1), ('mexico', 1), ('turkey', 1), ('recently', 1), ('statistical', 1), ('office', 1), ('collected', 1), ('organisation', 1), ('comparable', 1), ('snaun', 1), ('guide', 1), ('monetary', 1), ('statistic', 1)]\n",
      "Research Methodology Records 5\n",
      "[('public', 10), ('sector', 5), ('application', 5), ('methodology', 5), ('method', 5), ('slr', 5), ('systematic', 4), ('government', 4), ('design', 4), ('study', 3), ('les', 3), ('technology', 3), ('proces', 3), ('solution', 3), ('structure', 2), ('service', 2), ('system', 2), ('review', 2), ('trend', 2), ('function', 2), ('framework', 2), ('present', 2), ('evaluate', 2), ('science', 2), ('discipline', 2), ('dsrm', 2), ('model', 2), ('evaluation', 2), ('software', 2), ('potential', 2), ('textcopyright', 2), ('conference', 2), ('addressed', 2), ('estimation', 2), ('number', 1), ('increase', 1), ('overview', 1), ('highlighted', 1), ('recommendation', 1), ('provided', 1), ('quantitative', 1), ('qualitative', 1), ('selected', 1), ('article', 1), ('draw', 1), ('previou', 1), ('compare', 1), ('overall', 1), ('state', 1), ('heterogeneou', 1)]\n",
      " AI Strategy Records 1\n",
      "[('software', 2), ('industrial', 2), ('revolution', 2), ('machine', 2), ('variou', 2), ('government', 2), ('benefit', 2), ('decade', 1), ('technological', 1), ('discipline', 1), ('economy', 1), ('industry', 1), ('computing', 1), ('infrastructure', 1), ('obtaining', 1), ('processing', 1), ('datum', 1), ('developed', 1), ('simply', 1), ('programming', 1), ('learning', 1), ('transformation', 1), ('opportunity', 1), ('seriou', 1), ('risk', 1), ('stakeholder', 1), ('corporation', 1), ('academic', 1), ('society', 1), ('organization', 1), ('exploit', 1), ('pose', 1), ('protecting', 1), ('citizen', 1), ('harm', 1), ('good', 1), ('service', 1)]\n",
      "Governmnet Usecase Records 26\n",
      "[('public', 64), ('government', 34), ('datum', 24), ('service', 21), ('application', 19), ('human', 18), ('sector', 18), ('organization', 17), ('technology', 17), ('development', 15), ('task', 14), ('economic', 14), ('social', 14), ('job', 13), ('ai', 12), ('intelligence', 12), ('policy', 12), ('governance', 11), ('firm', 11), ('society', 10), ('machine', 10), ('analytical', 10), ('busines', 10), ('learning', 9), ('theory', 9), ('impact', 9), ('egovernment', 9), ('private', 8), ('capability', 8), ('system', 8), ('citizen', 7), ('future', 7), ('methodology', 7), ('agency', 7), ('digital', 6), ('potential', 6), ('discretion', 6), ('bureaucracy', 6), ('characteristic', 6), ('specific', 6), ('set', 6), ('face', 6), ('empathetic', 6), ('level', 6), ('implication', 6), ('analytic', 6), ('crisi', 6), ('algorithm', 6), ('design', 6), ('opportunity', 6)]\n",
      "AI Legal Records 1\n",
      "[('human', 11), ('oversight', 5), ('decision', 5), ('legal', 4), ('algorithmic', 2), ('system', 2), ('making', 2), ('law', 2), ('procedural', 2), ('algorithmization', 2), ('study', 2), ('eu', 1), ('policy', 1), ('controlling', 1), ('automated', 1), ('control', 1), ('technical', 1), ('solution', 1), ('tool', 1), ('attractive', 1), ('observable', 1), ('safeguard', 1), ('awarenes', 1), ('limitation', 1), ('danger', 1), ('standin', 1), ('protection', 1), ('right', 1), ('sociolegal', 1), ('science', 1), ('technology', 1), ('algorithm', 1), ('organization', 1), ('humancomputer', 1), ('research', 1), ('author', 1), ('importance', 1), ('core', 1), ('visible', 1), ('conceptualise', 1), ('actor', 1), ('personalise', 1), ('decisionmaker', 1), ('discretionary', 1), ('power', 1), ('proportionality', 1), ('common', 1), ('sense', 1), ('prevent', 1), ('gros', 1)]\n",
      "Fairness Records 1\n",
      "[('social', 5), ('human', 4), ('system', 3), ('decision', 3), ('development', 3), ('privacy', 2), ('hybrid', 2), ('poverty', 2), ('public', 2), ('health', 2), ('context', 2), ('algorithm', 2), ('rule', 2), ('fairnes', 2), ('datum', 1), ('intelligent', 1), ('society', 1), ('prosperity', 1), ('conversely', 1), ('inequality', 1), ('agency', 1), ('twopart', 1), ('thesi', 1), ('societal', 1), ('integrate', 1), ('intelligence', 1), ('potential', 1), ('goal', 1), ('application', 1), ('diabetic', 1), ('blindnes', 1), ('accurate', 1), ('isolation', 1), ('benefit', 1), ('exposure', 1), ('action', 1), ('povertytargeting', 1), ('operating', 1), ('today', 1), ('povertybased', 1), ('accuracy', 1), ('coverage', 1), ('policy', 1), ('million', 1), ('person', 1), ('latin', 1), ('american', 1), ('country', 1), ('budget', 1), ('shown', 1)]\n",
      "Social Development Records 1\n",
      "[('social', 5), ('human', 4), ('system', 3), ('decision', 3), ('development', 3), ('privacy', 2), ('hybrid', 2), ('poverty', 2), ('public', 2), ('health', 2), ('context', 2), ('algorithm', 2), ('rule', 2), ('fairnes', 2), ('datum', 1), ('intelligent', 1), ('society', 1), ('prosperity', 1), ('conversely', 1), ('inequality', 1), ('agency', 1), ('twopart', 1), ('thesi', 1), ('societal', 1), ('integrate', 1), ('intelligence', 1), ('potential', 1), ('goal', 1), ('application', 1), ('diabetic', 1), ('blindnes', 1), ('accurate', 1), ('isolation', 1), ('benefit', 1), ('exposure', 1), ('action', 1), ('povertytargeting', 1), ('operating', 1), ('today', 1), ('povertybased', 1), ('accuracy', 1), ('coverage', 1), ('policy', 1), ('million', 1), ('person', 1), ('latin', 1), ('american', 1), ('country', 1), ('budget', 1), ('shown', 1)]\n",
      "Government Policy Records 5\n",
      "[('government', 10), ('policy', 7), ('system', 7), ('human', 7), ('development', 7), ('public', 7), ('social', 6), ('citizen', 6), ('plan', 5), ('nation', 5), ('service', 5), ('country', 4), ('decision', 4), ('potential', 4), ('strategic', 4), ('technology', 3), ('egovernment', 3), ('survey', 3), ('society', 3), ('datum', 3), ('application', 3), ('algorithm', 3), ('ict', 2), ('developing', 2), ('global', 2), ('analyze', 2), ('proces', 2), ('benefit', 2), ('issue', 2), ('creativity', 2), ('technological', 2), ('collection', 2), ('computer', 2), ('improving', 2), ('hand', 2), ('digital', 2), ('particular', 2), ('agency', 2), ('privacy', 2), ('hybrid', 2), ('intelligence', 2), ('poverty', 2), ('health', 2), ('context', 2), ('action', 2), ('rule', 2), ('governance', 2), ('work', 2), ('fairnes', 2), ('question', 2)]\n",
      "accountability Records 1\n",
      "[('public', 5), ('accountability', 4), ('algorithmic', 3), ('system', 3), ('algorithm', 2), ('decision', 2), ('govern', 1), ('live', 1), ('transforming', 1), ('society', 1), ('efficient', 1), ('lowcost', 1), ('solution', 1), ('potential', 1), ('datum', 1), ('body', 1), ('service', 1), ('highstake', 1), ('education', 1), ('governmental', 1), ('enforcement', 1), ('power', 1), ('policing', 1), ('libertyrestricting', 1), ('bail', 1), ('question', 1), ('safeguard', 1), ('decisionmaking', 1), ('administration', 1), ('perspective', 1), ('thu', 1), ('field', 1), ('pose', 1)]\n"
     ]
    },
    {
     "name": "stdout",
     "output_type": "stream",
     "text": [
      "AI Implementation Records 6\n",
      "[('datum', 12), ('system', 9), ('egovernment', 9), ('user', 5), ('xai', 5), ('model', 5), ('framework', 5), ('public', 5), ('organizational', 5), ('service', 4), ('application', 4), ('project', 4), ('individual', 3), ('decision', 3), ('technology', 3), ('learning', 3), ('developer', 3), ('state', 3), ('article', 2), ('business', 2), ('customer', 2), ('privacy', 2), ('ethical', 2), ('machine', 2), ('security', 2), ('benefit', 2), ('explainable', 2), ('program', 2), ('goal', 2), ('explanation', 2), ('challenge', 2), ('performance', 2), ('time', 2), ('ai', 2), ('collaboration', 2), ('face', 2), ('sharing', 2), ('acros', 2), ('design', 2), ('processing', 2), ('management', 2), ('structure', 2), ('propose', 2), ('utilize', 2), ('automate', 2), ('computing', 2), ('organization', 2), ('abstract', 1), ('today', 1), ('digital', 1)]\n",
      "AI Strategy Records 15\n",
      "[('public', 34), ('technology', 20), ('datum', 18), ('development', 14), ('policy', 11), ('economic', 11), ('ai', 10), ('government', 10), ('company', 9), ('strategy', 9), ('analytic', 9), ('busines', 9), ('opportunity', 9), ('methodology', 8), ('governance', 8), ('agenda', 8), ('future', 8), ('engagement', 8), ('value', 8), ('organization', 8), ('firm', 7), ('sector', 7), ('potential', 7), ('industry', 6), ('private', 6), ('crisi', 6), ('application', 6), ('society', 6), ('management', 6), ('strategic', 6), ('system', 6), ('sdg', 6), ('goal', 5), ('study', 5), ('design', 5), ('theoretical', 5), ('plan', 5), ('present', 4), ('acros', 4), ('leader', 4), ('algorithm', 4), ('technique', 4), ('face', 4), ('crisis', 4), ('identify', 4), ('environment', 4), ('insight', 4), ('social', 4), ('issue', 4), ('systematic', 4)]\n",
      "AI Policy Records 35\n",
      "[('public', 75), ('policy', 53), ('government', 37), ('datum', 33), ('decision', 25), ('governance', 25), ('system', 24), ('human', 24), ('service', 24), ('accountability', 22), ('sector', 19), ('framework', 18), ('performance', 18), ('development', 18), ('ai', 17), ('legal', 15), ('technology', 15), ('society', 15), ('job', 15), ('theory', 14), ('task', 14), ('algorithm', 14), ('sai', 12), ('machine', 12), ('algorithmic', 12), ('benefit', 11), ('model', 11), ('potential', 11), ('organization', 11), ('methodology', 11), ('economic', 11), ('implementation', 11), ('management', 11), ('law', 10), ('principle', 10), ('application', 10), ('question', 10), ('intelligence', 10), ('analytical', 10), ('understand', 9), ('challenge', 9), ('issue', 9), ('social', 9), ('ict', 9), ('proces', 9), ('firm', 9), ('topic', 9), ('right', 8), ('environment', 8), ('regulation', 8)]\n",
      "AI Records 6\n",
      "[('public', 18), ('system', 12), ('decision', 7), ('application', 5), ('benefit', 5), ('human', 5), ('user', 5), ('xai', 5), ('society', 5), ('social', 5), ('algorithm', 5), ('datum', 4), ('government', 4), ('service', 4), ('development', 4), ('algorithmic', 4), ('strategic', 4), ('plan', 4), ('accountability', 4), ('machine', 3), ('learning', 3), ('goal', 3), ('developer', 3), ('framework', 3), ('potential', 3), ('nation', 3), ('sector', 3), ('solution', 3), ('explainable', 2), ('program', 2), ('model', 2), ('explanation', 2), ('strategy', 2), ('software', 2), ('industrial', 2), ('revolution', 2), ('technological', 2), ('industry', 2), ('opportunity', 2), ('variou', 2), ('academic', 2), ('organization', 2), ('pose', 2), ('privacy', 2), ('hybrid', 2), ('poverty', 2), ('health', 2), ('context', 2), ('action', 2), ('rule', 2)]\n"
     ]
    }
   ],
   "source": [
    "import sys\n",
    "sys.path.append('../src/')\n",
    "\n",
    "from bib_processor import BiBProcessor\n",
    "import ml_lit\n",
    "\n",
    "processor = BiBProcessor('../bibtex_collection.bib')\n",
    "processor.preparser()\n",
    "tags = processor.get_tags() \n",
    "      \n",
    "filter_list = [\"ARTIFICIAL\",\"INTELLIGENCE\", \"AI\", \"MACHINE LEARNING\",\"AUTOMATION\", \"AUTONOMOUS\",\"COGNITIVE\",\"(AI)\"]\n",
    "filename = \"../noise.txt\"\n",
    "noise_list = []\n",
    "with open(filename) as f:\n",
    "    for line in f:\n",
    "        noise_list +=line.replace(\"\\n\",\"\").split(\",\")\n",
    "noise_set = set(noise_list)\n",
    "\n",
    "for tag in tags:\n",
    "    processor.filter_tag([tag])\n",
    "    theme_data = processor.get_themes(filter_list,50, noise_list=noise_set)\n",
    "    print(tag + \" Records \" + str(theme_data['records']))\n",
    "    print(theme_data['common'])\n",
    "\n"
   ]
  },
  {
   "cell_type": "code",
   "execution_count": 2,
   "id": "9369a0e6",
   "metadata": {},
   "outputs": [
    {
     "ename": "FileNotFoundError",
     "evalue": "[Errno 2] No such file or directory: 'noise.txt'",
     "output_type": "error",
     "traceback": [
      "\u001b[1;31m---------------------------------------------------------------------------\u001b[0m",
      "\u001b[1;31mFileNotFoundError\u001b[0m                         Traceback (most recent call last)",
      "Input \u001b[1;32mIn [2]\u001b[0m, in \u001b[0;36m<cell line: 3>\u001b[1;34m()\u001b[0m\n\u001b[0;32m      1\u001b[0m filename \u001b[38;5;241m=\u001b[39m \u001b[38;5;124m\"\u001b[39m\u001b[38;5;124mnoise.txt\u001b[39m\u001b[38;5;124m\"\u001b[39m\n\u001b[0;32m      2\u001b[0m \u001b[38;5;28mlist\u001b[39m \u001b[38;5;241m=\u001b[39m []\n\u001b[1;32m----> 3\u001b[0m \u001b[38;5;28;01mwith\u001b[39;00m \u001b[38;5;28;43mopen\u001b[39;49m\u001b[43m(\u001b[49m\u001b[43mfilename\u001b[49m\u001b[43m)\u001b[49m \u001b[38;5;28;01mas\u001b[39;00m f:\n\u001b[0;32m      4\u001b[0m     \u001b[38;5;28;01mfor\u001b[39;00m line \u001b[38;5;129;01min\u001b[39;00m f:\n\u001b[0;32m      5\u001b[0m         \u001b[38;5;28mlist\u001b[39m \u001b[38;5;241m+\u001b[39m\u001b[38;5;241m=\u001b[39mline\u001b[38;5;241m.\u001b[39mreplace(\u001b[38;5;124m\"\u001b[39m\u001b[38;5;130;01m\\n\u001b[39;00m\u001b[38;5;124m\"\u001b[39m,\u001b[38;5;124m\"\u001b[39m\u001b[38;5;124m\"\u001b[39m)\u001b[38;5;241m.\u001b[39msplit(\u001b[38;5;124m\"\u001b[39m\u001b[38;5;124m,\u001b[39m\u001b[38;5;124m\"\u001b[39m)\n",
      "\u001b[1;31mFileNotFoundError\u001b[0m: [Errno 2] No such file or directory: 'noise.txt'"
     ]
    }
   ],
   "source": [
    "filename = \"noise.txt\"\n",
    "list = []\n",
    "with open(filename) as f:\n",
    "    for line in f:\n",
    "        list +=line.replace(\"\\n\",\"\").split(\",\")\n",
    "noise = set(list)\n",
    "print(noise)"
   ]
  },
  {
   "cell_type": "code",
   "execution_count": 2,
   "id": "fc3d3fe7",
   "metadata": {},
   "outputs": [
    {
     "name": "stderr",
     "output_type": "stream",
     "text": [
      "[nltk_data] Downloading package omw-1.4 to\n",
      "[nltk_data]     C:\\Users\\MSI\\AppData\\Roaming\\nltk_data...\n",
      "[nltk_data]   Unzipping corpora\\omw-1.4.zip.\n",
      "[nltk_data] Downloading package stopwords to\n",
      "[nltk_data]     C:\\Users\\MSI\\AppData\\Roaming\\nltk_data...\n",
      "[nltk_data]   Unzipping corpora\\stopwords.zip.\n"
     ]
    },
    {
     "data": {
      "text/plain": [
       "True"
      ]
     },
     "execution_count": 2,
     "metadata": {},
     "output_type": "execute_result"
    }
   ],
   "source": [
    "import nltk\n",
    "nltk.download('omw-1.4') \n",
    "nltk.download('stopwords')"
   ]
  },
  {
   "cell_type": "code",
   "execution_count": null,
   "id": "d5177467",
   "metadata": {},
   "outputs": [],
   "source": []
  },
  {
   "cell_type": "code",
   "execution_count": null,
   "id": "75f07c24",
   "metadata": {},
   "outputs": [],
   "source": []
  }
 ],
 "metadata": {
  "kernelspec": {
   "display_name": "Python 3 (ipykernel)",
   "language": "python",
   "name": "python3"
  },
  "language_info": {
   "codemirror_mode": {
    "name": "ipython",
    "version": 3
   },
   "file_extension": ".py",
   "mimetype": "text/x-python",
   "name": "python",
   "nbconvert_exporter": "python",
   "pygments_lexer": "ipython3",
   "version": "3.8.10"
  }
 },
 "nbformat": 4,
 "nbformat_minor": 5
}
