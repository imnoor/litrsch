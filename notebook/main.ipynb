{
 "cells": [
  {
   "cell_type": "code",
   "execution_count": 1,
   "id": "b6a5306f",
   "metadata": {},
   "outputs": [
    {
     "name": "stdout",
     "output_type": "stream",
     "text": [
      "Initial Size 105\n",
      "Tag Filter 8\n",
      "[('ARCHITECTURE', 14), ('DIGITAL', 12), ('ENTERPRISE', 10), ('FRAMEWORK', 8), ('DT', 8), ('ORGANIZATIONS', 7), ('GOVERNMENT', 6), ('DATA', 6), ('SMART', 5), ('ANALYTICS', 5), ('TRANSFORMATIONS', 5), ('BUSINESS', 5), ('SERVICES', 4), ('GOVERNMENTS', 4), ('FLEXIBILITY', 4), ('TIME', 3), ('CITY', 3), ('TRANSFORMATION', 3), ('TECHNOLOGY', 3), ('ORGANIZATIONAL', 3), ('DISTRICT', 3), ('PLANNING', 3), ('MODAF', 2), ('MODEL', 2), ('STRATEGIC', 2), ('CITIES', 2), ('CONCEPTUAL', 2), ('ANALYZE', 2), ('ARCHITECTURES', 2), ('RESEARCH', 2), ('ELEMENTS', 2), ('SYSTEM', 2), ('ENABLED', 2), ('INNOVATE', 2), ('EMERGING', 2), ('TECHNOLOGIES', 2), ('MOBILE', 2), ('COMPUTING', 2), ('CLOUD', 2), ('STRATEGIES', 2), ('CORPORATE', 2), ('LASTLY', 2), ('CHALLENGES', 2), ('SUCCESSFUL', 2), ('INTEGRATED', 2), ('STRATEGY', 2), ('DEVELOPMENT', 2), ('METHODOLOGY', 2), ('FUTURE', 2), ('DISTRICTS', 2)]\n"
     ]
    }
   ],
   "source": [
    "import sys\n",
    "sys.path.append('../src/')\n",
    "\n",
    "from bib_processor import BiBProcessor\n",
    "import ml_lit\n",
    "\n",
    "processor = BiBProcessor('../bibtex_collection.bib')\n",
    "processor.filter_abstract()\n",
    "\n",
    "print('Initial Size ' + str(processor.size()))\n",
    "\n",
    "tags = ['Enterprise Architecture']\n",
    "\n",
    "processor.filter_tag(tags)\n",
    "\n",
    "print(\"Tag Filter \" + str(processor.size()))\n",
    "      \n",
    "filter_list = [\"ARTIFICIAL\",\"INTELLIGENCE\", \"AI\", \"MACHINE LEARNING\",\"AUTOMATION\", \"AUTONOMOUS\",\"COGNITIVE\",\"(AI)\"]\n",
    "noise_list = [\"RESEARCH\", \"NEW\",\"STUDY\",\"INFORMATION\",\"CHANGE\",\"TIME\",\"BASED\",\"LEVEL\",\"ERA\",\"MAIN\", \"INTRODUCTION\",\"USE\", \"NEED\",\n",
    "             \"AIM\", \"EFFORTS\",\"CONCEPTS\",\"BIG\",\"BOLD\",\"BASIS\",\"HELP\", \"PRACTICES\", \"CONTEXT\",\"CREATED\",\"EANBLE\", \"CASE\",\"EVENTS\",\"CREATION\", \"PROVIDED\", \"HIGHLY\",\n",
    "             \"INCLUDING\", \"ENABLED\",\"ENABLE\", \"LEVELS\", \"LASTLY\",\"UNITS\", \"ENHANCED\", \"BEST\",\"LASTLY\",\"DRAWN\",\"OBJECTIVE\",\"THESIS\",\"KNOWN\"]\n",
    "\n",
    "theme_data = processor.get_themes(filter_list,50, noise_list=noise_list)\n",
    "print(theme_data['common'])\n",
    "\n"
   ]
  },
  {
   "cell_type": "code",
   "execution_count": null,
   "id": "9369a0e6",
   "metadata": {},
   "outputs": [],
   "source": []
  },
  {
   "cell_type": "code",
   "execution_count": null,
   "id": "fc3d3fe7",
   "metadata": {},
   "outputs": [],
   "source": []
  },
  {
   "cell_type": "code",
   "execution_count": null,
   "id": "d5177467",
   "metadata": {},
   "outputs": [],
   "source": []
  },
  {
   "cell_type": "code",
   "execution_count": null,
   "id": "75f07c24",
   "metadata": {},
   "outputs": [],
   "source": []
  }
 ],
 "metadata": {
  "kernelspec": {
   "display_name": "Python 3 (ipykernel)",
   "language": "python",
   "name": "python3"
  },
  "language_info": {
   "codemirror_mode": {
    "name": "ipython",
    "version": 3
   },
   "file_extension": ".py",
   "mimetype": "text/x-python",
   "name": "python",
   "nbconvert_exporter": "python",
   "pygments_lexer": "ipython3",
   "version": "3.8.10"
  }
 },
 "nbformat": 4,
 "nbformat_minor": 5
}
