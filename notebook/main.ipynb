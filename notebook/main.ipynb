{
 "cells": [
  {
   "cell_type": "code",
   "execution_count": 1,
   "id": "b6a5306f",
   "metadata": {
    "scrolled": false
   },
   "outputs": [
    {
     "name": "stdout",
     "output_type": "stream",
     "text": [
      "[('PUBLIC', 160), ('GOVERNMENT', 66), ('POLICY', 54), ('DEVELOPMENT', 44), ('DIGITAL', 39), ('HUMAN', 34), ('GOVERNANCE', 34), ('POTENTIAL', 29), ('TECHNOLOGY', 28), ('SOCIAL', 27), ('BUSINESS', 26), ('FRAMEWORK', 26), ('METHODOLOGY', 24), ('DECISION', 22), ('FUTURE', 22), ('SERVICE', 20), ('ENTERPRISE', 19), ('PERFORMANCE', 18), ('LEARNING', 17), ('ARCHITECTURE', 15), ('ACCOUNTABILITY', 15), ('LEGAL', 14), ('APPLICATION', 14), ('SOCIETY', 10), ('CITIZEN', 9), ('STRATEGY', 8), ('POWER', 8), ('AGENDA', 8), ('SYSTEM', 7), ('JOB', 7), ('REGULATION', 7), ('ORGANIZATION', 7), ('EMERGING', 6), ('EMPATHETIC', 6), ('PRACTICE', 6), ('CONCEPTUAL', 6), ('INNOVATION', 6), ('TRANSFORMATION', 6), ('POVERTY', 5), ('LAW', 5), ('XAI', 4), ('ENFORCEMENT', 4), ('MOBILE', 4), ('DEVELOPER', 3), ('BUREAUCRACY', 3), ('COUNTRY', 3), ('CULTURE', 3), ('PLANNING', 3), ('BLUEPRINT', 3), ('ECONOMY', 3), ('CLOUD', 3), ('ALGORITHM', 2), ('COMPANY', 1), ('CAPABILITY', 1), ('NATION', 1), ('OPPORTUNITY', 1), ('FAIRNESS', 1)]\n"
     ]
    }
   ],
   "source": [
    "import sys\n",
    "sys.path.append('../src/')\n",
    "\n",
    "from bib_processor import BiBProcessor\n",
    "import ml_lit\n",
    "\n",
    "def load_list(filename):\n",
    "    ret_list = []\n",
    "    with open(filename) as f:\n",
    "        for line in f:\n",
    "            line=line.upper()\n",
    "            ret_list +=line.replace(\"\\n\",\"\").split(\",\")\n",
    "    return ret_list\n",
    "\n",
    "processor = BiBProcessor('../bibtex_collection.bib')\n",
    "processor.preparser()\n",
    "tags = processor.get_tags() \n",
    "      \n",
    "filter_list = [\"ARTIFICIAL\",\"INTELLIGENCE\", \"AI\", \"MACHINE LEARNING\",\"AUTOMATION\", \"AUTONOMOUS\",\"COGNITIVE\",\"(AI)\"]\n",
    "noisefile = \"../noise.txt\"\n",
    "keysfile = \"../keywords.txt\"\n",
    "noise_list = load_list(noisefile)\n",
    "keys_list= load_list(keysfile)\n",
    "\n",
    "noise_set = set(noise_list)\n",
    "\n",
    "processor.filter_tag([])\n",
    "theme_data = processor.get_aggregate_themes( keywords=keys_list,top=67, noise_list=noise_list )\n",
    "print(theme_data['common'])    \n",
    "\n",
    "#for tag in tags:\n",
    "    #processor.filter_tag([tag])\n",
    "    #theme_data = processor.get_themes(filter_list,50, noise_list=noise_set)   \n",
    "    #print(tag + \" Records \" + str(theme_data['records']))\n",
    "\n",
    "    \n"
   ]
  },
  {
   "cell_type": "code",
   "execution_count": 1,
   "id": "9369a0e6",
   "metadata": {},
   "outputs": [
    {
     "ename": "FileNotFoundError",
     "evalue": "[Errno 2] No such file or directory: 'noise.txt'",
     "output_type": "error",
     "traceback": [
      "\u001b[1;31m---------------------------------------------------------------------------\u001b[0m",
      "\u001b[1;31mFileNotFoundError\u001b[0m                         Traceback (most recent call last)",
      "Input \u001b[1;32mIn [1]\u001b[0m, in \u001b[0;36m<cell line: 3>\u001b[1;34m()\u001b[0m\n\u001b[0;32m      1\u001b[0m filename \u001b[38;5;241m=\u001b[39m \u001b[38;5;124m\"\u001b[39m\u001b[38;5;124mnoise.txt\u001b[39m\u001b[38;5;124m\"\u001b[39m\n\u001b[0;32m      2\u001b[0m \u001b[38;5;28mlist\u001b[39m \u001b[38;5;241m=\u001b[39m []\n\u001b[1;32m----> 3\u001b[0m \u001b[38;5;28;01mwith\u001b[39;00m \u001b[38;5;28;43mopen\u001b[39;49m\u001b[43m(\u001b[49m\u001b[43mfilename\u001b[49m\u001b[43m)\u001b[49m \u001b[38;5;28;01mas\u001b[39;00m f:\n\u001b[0;32m      4\u001b[0m     \u001b[38;5;28;01mfor\u001b[39;00m line \u001b[38;5;129;01min\u001b[39;00m f:\n\u001b[0;32m      5\u001b[0m         \u001b[38;5;28mlist\u001b[39m \u001b[38;5;241m+\u001b[39m\u001b[38;5;241m=\u001b[39mline\u001b[38;5;241m.\u001b[39mreplace(\u001b[38;5;124m\"\u001b[39m\u001b[38;5;130;01m\\n\u001b[39;00m\u001b[38;5;124m\"\u001b[39m,\u001b[38;5;124m\"\u001b[39m\u001b[38;5;124m\"\u001b[39m)\u001b[38;5;241m.\u001b[39msplit(\u001b[38;5;124m\"\u001b[39m\u001b[38;5;124m,\u001b[39m\u001b[38;5;124m\"\u001b[39m)\n",
      "\u001b[1;31mFileNotFoundError\u001b[0m: [Errno 2] No such file or directory: 'noise.txt'"
     ]
    }
   ],
   "source": [
    "filename = \"noise.txt\"\n",
    "list = []\n",
    "with open(filename) as f:\n",
    "    for line in f:\n",
    "        list +=line.replace(\"\\n\",\"\").split(\",\")\n",
    "noise = set(list)\n",
    "print(noise)"
   ]
  },
  {
   "cell_type": "code",
   "execution_count": 1,
   "id": "fc3d3fe7",
   "metadata": {},
   "outputs": [
    {
     "name": "stderr",
     "output_type": "stream",
     "text": [
      "[nltk_data] Downloading package omw-1.4 to\n",
      "[nltk_data]     C:\\Users\\MSI\\AppData\\Roaming\\nltk_data...\n",
      "[nltk_data]   Package omw-1.4 is already up-to-date!\n",
      "[nltk_data] Downloading package stopwords to\n",
      "[nltk_data]     C:\\Users\\MSI\\AppData\\Roaming\\nltk_data...\n",
      "[nltk_data]   Package stopwords is already up-to-date!\n"
     ]
    },
    {
     "data": {
      "text/plain": [
       "True"
      ]
     },
     "execution_count": 1,
     "metadata": {},
     "output_type": "execute_result"
    }
   ],
   "source": [
    "import nltk\n",
    "nltk.download('omw-1.4') \n",
    "nltk.download('stopwords')"
   ]
  },
  {
   "cell_type": "code",
   "execution_count": null,
   "id": "d5177467",
   "metadata": {},
   "outputs": [],
   "source": []
  },
  {
   "cell_type": "code",
   "execution_count": null,
   "id": "75f07c24",
   "metadata": {},
   "outputs": [],
   "source": []
  }
 ],
 "metadata": {
  "kernelspec": {
   "display_name": "Python 3 (ipykernel)",
   "language": "python",
   "name": "python3"
  },
  "language_info": {
   "codemirror_mode": {
    "name": "ipython",
    "version": 3
   },
   "file_extension": ".py",
   "mimetype": "text/x-python",
   "name": "python",
   "nbconvert_exporter": "python",
   "pygments_lexer": "ipython3",
   "version": "3.8.10"
  }
 },
 "nbformat": 4,
 "nbformat_minor": 5
}
